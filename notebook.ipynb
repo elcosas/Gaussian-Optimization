{
 "cells": [
  {
   "cell_type": "code",
   "execution_count": 3,
   "id": "016455ba-a65f-4bda-b211-b8882aaa3b20",
   "metadata": {},
   "outputs": [],
   "source": [
    "import numpy as np\n",
    "import pandas as pd\n",
    "import matplotlib.pyplot as plt\n",
    "import math\n",
    "from utility.process import convert_ed\n",
    "from utility.gen_dataset import gen_dataset"
   ]
  },
  {
   "cell_type": "markdown",
   "id": "8b85bfbe-d964-4bb3-8bb7-7a61276a2413",
   "metadata": {
    "jp-MarkdownHeadingCollapsed": true
   },
   "source": [
    "# Data Processing"
   ]
  },
  {
   "cell_type": "markdown",
   "id": "87a4d354-9050-4956-b629-5748101d423b",
   "metadata": {},
   "source": [
    "- Need to generate 10 different response curves from kaustubh's simulation\n",
    "- Store parameters in panda table"
   ]
  },
  {
   "cell_type": "code",
   "execution_count": 57,
   "id": "343205c3-f162-4dcc-9b40-e6933bda810d",
   "metadata": {
    "jupyter": {
     "source_hidden": true
    }
   },
   "outputs": [],
   "source": [
    "# original function\n",
    "def get_true_quantile(r_true, quantile=0.5):\n",
    "    i = np.arange(len(r_true))\n",
    "    c = np.cumsum(r_true)\n",
    "    q = np.searchsorted(c, quantile*c[-1])\n",
    "    return np.where(c[q]/c[-1] == quantile, 0.5 * (i[q] + i[q+1]), i[q])\n",
    "\n",
    "# wrapper function for getting all true edh bins\n",
    "def get_all_true_quantlies(r_true, quantiles):\n",
    "    bins = []\n",
    "    for qnt in quantiles:\n",
    "        bins.append(get_true_quantile(r_true, quantile=qnt))\n",
    "    return bins"
   ]
  },
  {
   "cell_type": "code",
   "execution_count": 5,
   "id": "953840fc-2949-41bf-917f-aa26c282240f",
   "metadata": {},
   "outputs": [],
   "source": [
    "# test above\n",
    "def oracle_edh(tr, n_edh):\n",
    "    bins = tr.shape[-1]\n",
    "    tr_cs = np.cumsum(tr)\n",
    "    tr_sum = np.sum(tr)\n",
    "    edh_bins = np.zeros((n_edh-1))\n",
    "    for idx in range(edh_bins.shape[-1]):\n",
    "        edh_bins[idx] = np.argmin(np.abs(tr_cs - tr_sum*(idx+1.0)/n_edh))\n",
    "    return edh_bins+1\n",
    "\n",
    "# bins, trs = gen_dataset(bins=16)\n",
    "# oracle_bins = oracle_edh(trs, 16)\n",
    "# quantiles = []\n",
    "# for idx, bd in enumerate(bins):\n",
    "#     quantiles.append(np.sum(trs[:int(bd)])/np.sum(trs)*100)\n",
    "# quantile_bins = get_all_true_quantlies(trs, quantiles)\n",
    "# print(oracle_bins-quantile_bins)"
   ]
  },
  {
   "cell_type": "code",
   "execution_count": 18,
   "id": "3acdf79e-1e8e-44f0-8daa-2f532eae81ee",
   "metadata": {},
   "outputs": [],
   "source": [
    "# generate gaussian and return necessary parameters\n",
    "def gen_gauss(a, b, c, x_range):\n",
    "    return a*np.exp(-(x_range - b)**2 / (2*c**2))\n",
    "\n",
    "def get_true_gauss_params(height, width, ambient, depth, bins):\n",
    "    gauss = gen_gauss(height, depth, width/2.355, np.arange(1000)) + ambient\n",
    "    return {\n",
    "        'height': height,\n",
    "        'width': width,\n",
    "        'ambient': ambient,\n",
    "        'depth': depth,\n",
    "        'edh_bds': oracle_edh(gauss, bins),\n",
    "        'data_pts': gauss\n",
    "    }"
   ]
  },
  {
   "cell_type": "code",
   "execution_count": 40,
   "id": "36a375bf-bcb7-466d-a310-bb88ea2accff",
   "metadata": {},
   "outputs": [
    {
     "data": {
      "text/html": [
       "<div>\n",
       "<style scoped>\n",
       "    .dataframe tbody tr th:only-of-type {\n",
       "        vertical-align: middle;\n",
       "    }\n",
       "\n",
       "    .dataframe tbody tr th {\n",
       "        vertical-align: top;\n",
       "    }\n",
       "\n",
       "    .dataframe thead th {\n",
       "        text-align: right;\n",
       "    }\n",
       "</style>\n",
       "<table border=\"1\" class=\"dataframe\">\n",
       "  <thead>\n",
       "    <tr style=\"text-align: right;\">\n",
       "      <th></th>\n",
       "      <th>height</th>\n",
       "      <th>width</th>\n",
       "      <th>ambient</th>\n",
       "      <th>depth</th>\n",
       "      <th>edh_bds</th>\n",
       "      <th>data_pts</th>\n",
       "    </tr>\n",
       "  </thead>\n",
       "  <tbody>\n",
       "    <tr>\n",
       "      <th>0</th>\n",
       "      <td>50.032301</td>\n",
       "      <td>35.230387</td>\n",
       "      <td>45.511223</td>\n",
       "      <td>486.434447</td>\n",
       "      <td>[65.0, 130.0, 195.0, 260.0, 325.0, 390.0, 455....</td>\n",
       "      <td>[45.51122328505501, 45.51122328505501, 45.5112...</td>\n",
       "    </tr>\n",
       "    <tr>\n",
       "      <th>1</th>\n",
       "      <td>45.293515</td>\n",
       "      <td>45.120491</td>\n",
       "      <td>36.899388</td>\n",
       "      <td>403.783955</td>\n",
       "      <td>[66.0, 132.0, 199.0, 265.0, 331.0, 387.0, 418....</td>\n",
       "      <td>[36.89938802951785, 36.89938802951785, 36.8993...</td>\n",
       "    </tr>\n",
       "    <tr>\n",
       "      <th>2</th>\n",
       "      <td>89.617137</td>\n",
       "      <td>41.715003</td>\n",
       "      <td>64.664237</td>\n",
       "      <td>440.515485</td>\n",
       "      <td>[66.0, 133.0, 199.0, 265.0, 332.0, 398.0, 438....</td>\n",
       "      <td>[64.66423650128571, 64.66423650128571, 64.6642...</td>\n",
       "    </tr>\n",
       "    <tr>\n",
       "      <th>3</th>\n",
       "      <td>47.499843</td>\n",
       "      <td>48.529193</td>\n",
       "      <td>27.296775</td>\n",
       "      <td>792.100519</td>\n",
       "      <td>[68.0, 136.0, 204.0, 272.0, 341.0, 409.0, 477....</td>\n",
       "      <td>[27.296774804126926, 27.296774804126926, 27.29...</td>\n",
       "    </tr>\n",
       "    <tr>\n",
       "      <th>4</th>\n",
       "      <td>28.473384</td>\n",
       "      <td>28.226219</td>\n",
       "      <td>95.035155</td>\n",
       "      <td>65.328215</td>\n",
       "      <td>[60.0, 117.0, 180.0, 243.0, 306.0, 369.0, 432....</td>\n",
       "      <td>[95.03516488426064, 95.03517063168427, 95.0351...</td>\n",
       "    </tr>\n",
       "    <tr>\n",
       "      <th>5</th>\n",
       "      <td>60.777440</td>\n",
       "      <td>23.826149</td>\n",
       "      <td>84.444829</td>\n",
       "      <td>308.781899</td>\n",
       "      <td>[64.0, 127.0, 191.0, 255.0, 309.0, 364.0, 427....</td>\n",
       "      <td>[84.44482866311405, 84.44482866311405, 84.4448...</td>\n",
       "    </tr>\n",
       "    <tr>\n",
       "      <th>6</th>\n",
       "      <td>21.012299</td>\n",
       "      <td>11.617674</td>\n",
       "      <td>24.834887</td>\n",
       "      <td>193.043178</td>\n",
       "      <td>[63.0, 126.0, 188.0, 242.0, 305.0, 368.0, 432....</td>\n",
       "      <td>[24.83488703838868, 24.83488703838868, 24.8348...</td>\n",
       "    </tr>\n",
       "    <tr>\n",
       "      <th>7</th>\n",
       "      <td>96.840944</td>\n",
       "      <td>21.186996</td>\n",
       "      <td>43.420758</td>\n",
       "      <td>57.378964</td>\n",
       "      <td>[52.0, 81.0, 147.0, 212.0, 278.0, 344.0, 409.0...</td>\n",
       "      <td>[43.42075808296785, 43.42075822799937, 43.4207...</td>\n",
       "    </tr>\n",
       "    <tr>\n",
       "      <th>8</th>\n",
       "      <td>21.347335</td>\n",
       "      <td>30.711801</td>\n",
       "      <td>65.670086</td>\n",
       "      <td>238.855445</td>\n",
       "      <td>[63.0, 126.0, 189.0, 245.0, 305.0, 368.0, 432....</td>\n",
       "      <td>[65.67008553677866, 65.67008553677866, 65.6700...</td>\n",
       "    </tr>\n",
       "    <tr>\n",
       "      <th>9</th>\n",
       "      <td>56.880677</td>\n",
       "      <td>17.233557</td>\n",
       "      <td>86.524892</td>\n",
       "      <td>438.004049</td>\n",
       "      <td>[63.0, 127.0, 190.0, 253.0, 316.0, 380.0, 437....</td>\n",
       "      <td>[86.52489227473563, 86.52489227473563, 86.5248...</td>\n",
       "    </tr>\n",
       "  </tbody>\n",
       "</table>\n",
       "</div>"
      ],
      "text/plain": [
       "      height      width    ambient       depth  \\\n",
       "0  50.032301  35.230387  45.511223  486.434447   \n",
       "1  45.293515  45.120491  36.899388  403.783955   \n",
       "2  89.617137  41.715003  64.664237  440.515485   \n",
       "3  47.499843  48.529193  27.296775  792.100519   \n",
       "4  28.473384  28.226219  95.035155   65.328215   \n",
       "5  60.777440  23.826149  84.444829  308.781899   \n",
       "6  21.012299  11.617674  24.834887  193.043178   \n",
       "7  96.840944  21.186996  43.420758   57.378964   \n",
       "8  21.347335  30.711801  65.670086  238.855445   \n",
       "9  56.880677  17.233557  86.524892  438.004049   \n",
       "\n",
       "                                             edh_bds  \\\n",
       "0  [65.0, 130.0, 195.0, 260.0, 325.0, 390.0, 455....   \n",
       "1  [66.0, 132.0, 199.0, 265.0, 331.0, 387.0, 418....   \n",
       "2  [66.0, 133.0, 199.0, 265.0, 332.0, 398.0, 438....   \n",
       "3  [68.0, 136.0, 204.0, 272.0, 341.0, 409.0, 477....   \n",
       "4  [60.0, 117.0, 180.0, 243.0, 306.0, 369.0, 432....   \n",
       "5  [64.0, 127.0, 191.0, 255.0, 309.0, 364.0, 427....   \n",
       "6  [63.0, 126.0, 188.0, 242.0, 305.0, 368.0, 432....   \n",
       "7  [52.0, 81.0, 147.0, 212.0, 278.0, 344.0, 409.0...   \n",
       "8  [63.0, 126.0, 189.0, 245.0, 305.0, 368.0, 432....   \n",
       "9  [63.0, 127.0, 190.0, 253.0, 316.0, 380.0, 437....   \n",
       "\n",
       "                                            data_pts  \n",
       "0  [45.51122328505501, 45.51122328505501, 45.5112...  \n",
       "1  [36.89938802951785, 36.89938802951785, 36.8993...  \n",
       "2  [64.66423650128571, 64.66423650128571, 64.6642...  \n",
       "3  [27.296774804126926, 27.296774804126926, 27.29...  \n",
       "4  [95.03516488426064, 95.03517063168427, 95.0351...  \n",
       "5  [84.44482866311405, 84.44482866311405, 84.4448...  \n",
       "6  [24.83488703838868, 24.83488703838868, 24.8348...  \n",
       "7  [43.42075808296785, 43.42075822799937, 43.4207...  \n",
       "8  [65.67008553677866, 65.67008553677866, 65.6700...  \n",
       "9  [86.52489227473563, 86.52489227473563, 86.5248...  "
      ]
     },
     "execution_count": 40,
     "metadata": {},
     "output_type": "execute_result"
    }
   ],
   "source": [
    "# generate 10 raw gaussian datasets w/ boundaries\n",
    "# store a ground-truth and blind copy to a *.pkl file\n",
    "\n",
    "# constants\n",
    "BINS = 16\n",
    "HEIGHT_RANGE = (10, 100)\n",
    "PULSE_WIDTH_RANGE = (10, 50)\n",
    "AMBIENT_RANGE = (10, 100)\n",
    "DEPTH_RANGE = (50, 950)\n",
    "\n",
    "SAMPLE_COUNT = 10\n",
    "\n",
    "# generation code\n",
    "rng = np.random.default_rng()\n",
    "data = []\n",
    "for i in range(SAMPLE_COUNT):\n",
    "    height = rng.uniform(low=HEIGHT_RANGE[0], high=HEIGHT_RANGE[1])\n",
    "    width = rng.uniform(low=PULSE_WIDTH_RANGE[0], high=PULSE_WIDTH_RANGE[1])\n",
    "    ambient = rng.uniform(low=AMBIENT_RANGE[0], high=AMBIENT_RANGE[1])\n",
    "    depth = rng.uniform(low=DEPTH_RANGE[0], high=DEPTH_RANGE[1])\n",
    "    data.append(get_true_gauss_params(height, width, ambient, depth, BINS))\n",
    "df = pd.DataFrame(data)\n",
    "df.to_pickle('data/ground-truth.pkl')\n",
    "df"
   ]
  },
  {
   "cell_type": "markdown",
   "id": "a8f1e413-4f88-4a16-bfd0-15e0c738cf04",
   "metadata": {
    "jp-MarkdownHeadingCollapsed": true
   },
   "source": [
    "### Figure out why `plot_eqbins` doesn't work"
   ]
  },
  {
   "cell_type": "code",
   "execution_count": 36,
   "id": "e5e288a1-3830-4f59-9f36-ace9bf40d2af",
   "metadata": {
    "scrolled": true
   },
   "outputs": [
    {
     "data": {
      "image/png": "[encoded data removed]",
      "text/plain": [
       "<Figure size 2500x625 with 10 Axes>"
      ]
     },
     "metadata": {},
     "output_type": "display_data"
    }
   ],
   "source": [
    "# functions for plotting\n",
    "df = pd.read_pickle('data/ground-truth.pkl')\n",
    "def binlvl(idx,len_):\n",
    "    return int(math.log(len_+1,2) - math.log(math.gcd(idx+1, len_+1),2)) - 1\n",
    "\n",
    "def plot_eqbins(ebins, ax_, lw = 1, ls='-', cmin = 0, cmax = -1):\n",
    "    colors = ['r','g','b','k','y','c']\n",
    "    for idx,e in enumerate(ebins):\n",
    "        if (cmax!= -1) and ((e < cmin) or (e > cmax)):\n",
    "            continue\n",
    "    c = colors[binlvl(idx,len(ebins))]\n",
    "    ax_.axvline(x = e, color = c, label = 'axvline - full height', linewidth = lw, linestyle=ls)\n",
    "\n",
    "def plot_gaussian(x, y, edh_bins, ax):\n",
    "    ax.plot(x, y, 'k-')\n",
    "    plot_eqbins(edh_bins, ax)\n",
    "\n",
    "gauss_data_set, edh_bin_set = df.data_pts, df.edh_bds\n",
    "fig, axes = plt.subplots(2, 5, figsize=(25, 6.25))\n",
    "for i in range(df.shape[0]):\n",
    "    y_set, edh_bins = gauss_data_set[i], edh_bin_set[i]\n",
    "    r, c = i % 2, i % 5\n",
    "    ax = axes[r][c]\n",
    "    ax.set_ylim(0, HEIGHT_RANGE[1]+100)\n",
    "    ax.set_xlim(0, DEPTH_RANGE[1]+50)\n",
    "    plot_gaussian(np.arange(len(y_set)), y_set, edh_bins, ax)\n",
    "plt.show()"
   ]
  },
  {
   "cell_type": "markdown",
   "id": "4c0301ef-af0b-4b37-a6cf-15f6d87f4fbf",
   "metadata": {},
   "source": [
    "# Data Analysis"
   ]
  },
  {
   "cell_type": "markdown",
   "id": "e71817b9-8c1d-4ad7-a9d4-15cd2a752071",
   "metadata": {},
   "source": [
    "New (simpler) plan:\n",
    "- generate a single ground-truth gaussian with a good spread between bin boundaries and store params\n",
    "- implement a function that:\n",
    "    - uses basic regression to generate a gaussian from these params\n",
    "    - computes new bin boundaries with this gaussian\n",
    "    - returns the sum squared difference between the original and\n",
    "      generated boundaries\n",
    "- use nelder mead minimize to minimize the function\n",
    "- assume offset and peak width are known constants"
   ]
  },
  {
   "cell_type": "code",
   "execution_count": 4,
   "id": "f87d202e-d0b5-4872-9437-e7695e41152a",
   "metadata": {
    "scrolled": true
   },
   "outputs": [
    {
     "data": {
      "image/png": "[encoded data removed]",
      "text/plain": [
       "<Figure size 640x480 with 1 Axes>"
      ]
     },
     "metadata": {},
     "output_type": "display_data"
    }
   ],
   "source": [
    "# generate true gaussian\n",
    "def gen_gauss(x, h, d, w, o):\n",
    "    return h * np.exp(-(x - d)**2 / (2 * w**2)) + o\n",
    "\n",
    "# generate edh bin boundaries\n",
    "def oracle_edh(tr, n_edh):\n",
    "    bins = tr.shape[-1]\n",
    "    tr_cs = np.cumsum(tr)\n",
    "    tr_sum = np.sum(tr)\n",
    "    edh_bins = np.zeros((n_edh-1))\n",
    "    for idx in range(edh_bins.shape[-1]):\n",
    "        edh_bins[idx] = np.argmin(np.abs(tr_cs - tr_sum*(idx+1.0)/n_edh))\n",
    "    return edh_bins+1\n",
    "\n",
    "# plot edh bins\n",
    "def plot_edh_bins(bins, ax):\n",
    "    for _bin in bins:\n",
    "        ax.axvline(x=_bin, color='r', linewidth=.5)\n",
    "\n",
    "h = 650 # peak height\n",
    "d = 400 # peak offset\n",
    "w = 30 # peak width\n",
    "o = 30 # ambient offset\n",
    "\n",
    "BINS = 16 # number of edh bins\n",
    "X = np.arange(1000) # length of x axis (laser resolution)\n",
    "\n",
    "gauss = gen_gauss(X, h, d, w, o)\n",
    "edh_bins = oracle_edh(gauss, BINS)\n",
    "                      \n",
    "fig, ax = plt.subplots()\n",
    "ax.set_ylim(0, len(X))\n",
    "ax.set_xlim(0, len(X))\n",
    "ax.plot(X, gauss, color='b')\n",
    "plot_edh_bins(edh_bins, ax)\n",
    "plt.show()"
   ]
  },
  {
   "cell_type": "markdown",
   "id": "979665c1-7bf3-4f49-84f7-593c7e3a7216",
   "metadata": {},
   "source": [
    "### `curve_fit` from scipy.optimize\n",
    "\n",
    "- needs predicted values for all parameters in order to function\n",
    "- also needs bounds in order to fit properly\n",
    "- can fit a gaussian rather accurately"
   ]
  },
  {
   "cell_type": "code",
   "execution_count": 5,
   "id": "e45f91e2-418d-4c12-8d10-3882e90e71ac",
   "metadata": {},
   "outputs": [
    {
     "data": {
      "image/png": "[encoded data removed]",
      "text/plain": [
       "<Figure size 640x480 with 1 Axes>"
      ]
     },
     "metadata": {},
     "output_type": "display_data"
    }
   ],
   "source": [
    "from scipy.optimize import curve_fit\n",
    "pred_x, pred_y = convert_ed(edh_bins, edh_bins, len(X), o)\n",
    "p0 = (max(pred_y), len(X)/2, w, o)\n",
    "bounds = (0, len(X))\n",
    "params, covars = curve_fit(gen_gauss, pred_x, pred_y, p0=p0, bounds=bounds)\n",
    "_h, _d, _w, _o = params\n",
    "fig, ax = plt.subplots()\n",
    "ax.set_ylim(0, len(X))\n",
    "ax.set_xlim(0, len(X))\n",
    "ax.plot(X, gauss, color='b')\n",
    "ax.plot(X, gen_gauss(X, _h, _d, _w, _o), color='r')\n",
    "plt.show()"
   ]
  },
  {
   "cell_type": "code",
   "execution_count": 13,
   "id": "2b2b6e8d-2645-4aba-9186-7d49c37b4d00",
   "metadata": {},
   "outputs": [
    {
     "name": "stdout",
     "output_type": "stream",
     "text": [
      "164.0 | 154.0\n",
      "322.0 | 307.0\n",
      "359.0 | 356.0\n",
      "372.0 | 371.0\n",
      "382.0 | 382.0\n",
      "390.0 | 390.0\n",
      "398.0 | 398.0\n",
      "405.0 | 406.0\n",
      "412.0 | 414.0\n",
      "421.0 | 423.0\n",
      "431.0 | 434.0\n",
      "446.0 | 453.0\n",
      "507.0 | 538.0\n",
      "671.0 | 692.0\n",
      "836.0 | 846.0\n"
     ]
    }
   ],
   "source": [
    "new_edh_bins = oracle_edh(gen_gauss(X, _h, _d, _w, _o), BINS)\n",
    "for i in range(BINS-1):\n",
    "    print(f'{edh_bins[i]} | {new_edh_bins[i]}')"
   ]
  },
  {
   "cell_type": "code",
   "execution_count": 15,
   "id": "92fdcb97-3800-43d8-b8f7-01029048b4f1",
   "metadata": {},
   "outputs": [],
   "source": [
    "# write the actual function\n",
    "def curve_fit_ssd(bins, model, res, w, o):\n",
    "    pred_x, pred_y = convert_ed(bins, bins, len(X), o)\n",
    "    h, d, w, o = curve_fit(model, pred_x, pred_y, p0=(max(pred_y), len(res)/2, w, o), bounds=(0, len(res)))\n",
    "    pred_bins = oracle_edh(model(res, h, d, w, o), BINS)\n",
    "    return np.sum((pred_bins - bins)**2)"
   ]
  },
  {
   "cell_type": "markdown",
   "id": "97b86fed-4ddd-4da5-808d-b5e172172542",
   "metadata": {},
   "source": [
    "### nelder mead minimization"
   ]
  },
  {
   "cell_type": "code",
   "execution_count": 18,
   "id": "fe5d0e4f-7037-4f54-a7e2-c326f8d8dddd",
   "metadata": {},
   "outputs": [
    {
     "ename": "ValueError",
     "evalue": "The user-provided objective function must return a scalar value.",
     "output_type": "error",
     "traceback": [
      "\u001b[0;31m---------------------------------------------------------------------------\u001b[0m",
      "\u001b[0;31mValueError\u001b[0m                                Traceback (most recent call last)",
      "File \u001b[0;32m~/src/python/spad_regression_research/venv/lib/python3.11/site-packages/scipy/optimize/_optimize.py:626\u001b[0m, in \u001b[0;36m_wrap_scalar_function_maxfun_validation.<locals>.function_wrapper\u001b[0;34m(x, *wrapper_args)\u001b[0m\n\u001b[1;32m    625\u001b[0m \u001b[38;5;28;01mtry\u001b[39;00m:\n\u001b[0;32m--> 626\u001b[0m     fx \u001b[38;5;241m=\u001b[39m \u001b[43mnp\u001b[49m\u001b[38;5;241;43m.\u001b[39;49m\u001b[43masarray\u001b[49m\u001b[43m(\u001b[49m\u001b[43mfx\u001b[49m\u001b[43m)\u001b[49m\u001b[38;5;241;43m.\u001b[39;49m\u001b[43mitem\u001b[49m\u001b[43m(\u001b[49m\u001b[43m)\u001b[49m\n\u001b[1;32m    627\u001b[0m \u001b[38;5;28;01mexcept\u001b[39;00m (\u001b[38;5;167;01mTypeError\u001b[39;00m, \u001b[38;5;167;01mValueError\u001b[39;00m) \u001b[38;5;28;01mas\u001b[39;00m e:\n",
      "\u001b[0;31mValueError\u001b[0m: can only convert an array of size 1 to a Python scalar",
      "\nThe above exception was the direct cause of the following exception:\n",
      "\u001b[0;31mValueError\u001b[0m                                Traceback (most recent call last)",
      "Cell \u001b[0;32mIn[18], line 2\u001b[0m\n\u001b[1;32m      1\u001b[0m \u001b[38;5;28;01mfrom\u001b[39;00m \u001b[38;5;21;01mscipy\u001b[39;00m\u001b[38;5;21;01m.\u001b[39;00m\u001b[38;5;21;01moptimize\u001b[39;00m \u001b[38;5;28;01mimport\u001b[39;00m minimize\n\u001b[0;32m----> 2\u001b[0m res \u001b[38;5;241m=\u001b[39m \u001b[43mminimize\u001b[49m\u001b[43m(\u001b[49m\u001b[43mgen_gauss\u001b[49m\u001b[43m,\u001b[49m\u001b[43m \u001b[49m\u001b[43mpred_x\u001b[49m\u001b[43m,\u001b[49m\u001b[43m \u001b[49m\u001b[43margs\u001b[49m\u001b[38;5;241;43m=\u001b[39;49m\u001b[43m(\u001b[49m\u001b[43m_h\u001b[49m\u001b[43m,\u001b[49m\u001b[43m \u001b[49m\u001b[43m_d\u001b[49m\u001b[43m,\u001b[49m\u001b[43m \u001b[49m\u001b[43m_w\u001b[49m\u001b[43m,\u001b[49m\u001b[43m \u001b[49m\u001b[43m_o\u001b[49m\u001b[43m)\u001b[49m\u001b[43m,\u001b[49m\u001b[43m \u001b[49m\u001b[43mmethod\u001b[49m\u001b[38;5;241;43m=\u001b[39;49m\u001b[38;5;124;43m'\u001b[39;49m\u001b[38;5;124;43mnelder-mead\u001b[39;49m\u001b[38;5;124;43m'\u001b[39;49m\u001b[43m)\u001b[49m\n",
      "File \u001b[0;32m~/src/python/spad_regression_research/venv/lib/python3.11/site-packages/scipy/optimize/_minimize.py:698\u001b[0m, in \u001b[0;36mminimize\u001b[0;34m(fun, x0, args, method, jac, hess, hessp, bounds, constraints, tol, callback, options)\u001b[0m\n\u001b[1;32m    695\u001b[0m callback \u001b[38;5;241m=\u001b[39m _wrap_callback(callback, meth)\n\u001b[1;32m    697\u001b[0m \u001b[38;5;28;01mif\u001b[39;00m meth \u001b[38;5;241m==\u001b[39m \u001b[38;5;124m'\u001b[39m\u001b[38;5;124mnelder-mead\u001b[39m\u001b[38;5;124m'\u001b[39m:\n\u001b[0;32m--> 698\u001b[0m     res \u001b[38;5;241m=\u001b[39m \u001b[43m_minimize_neldermead\u001b[49m\u001b[43m(\u001b[49m\u001b[43mfun\u001b[49m\u001b[43m,\u001b[49m\u001b[43m \u001b[49m\u001b[43mx0\u001b[49m\u001b[43m,\u001b[49m\u001b[43m \u001b[49m\u001b[43margs\u001b[49m\u001b[43m,\u001b[49m\u001b[43m \u001b[49m\u001b[43mcallback\u001b[49m\u001b[43m,\u001b[49m\u001b[43m \u001b[49m\u001b[43mbounds\u001b[49m\u001b[38;5;241;43m=\u001b[39;49m\u001b[43mbounds\u001b[49m\u001b[43m,\u001b[49m\n\u001b[1;32m    699\u001b[0m \u001b[43m                               \u001b[49m\u001b[38;5;241;43m*\u001b[39;49m\u001b[38;5;241;43m*\u001b[39;49m\u001b[43moptions\u001b[49m\u001b[43m)\u001b[49m\n\u001b[1;32m    700\u001b[0m \u001b[38;5;28;01melif\u001b[39;00m meth \u001b[38;5;241m==\u001b[39m \u001b[38;5;124m'\u001b[39m\u001b[38;5;124mpowell\u001b[39m\u001b[38;5;124m'\u001b[39m:\n\u001b[1;32m    701\u001b[0m     res \u001b[38;5;241m=\u001b[39m _minimize_powell(fun, x0, args, callback, bounds, \u001b[38;5;241m*\u001b[39m\u001b[38;5;241m*\u001b[39moptions)\n",
      "File \u001b[0;32m~/src/python/spad_regression_research/venv/lib/python3.11/site-packages/scipy/optimize/_optimize.py:899\u001b[0m, in \u001b[0;36m_minimize_neldermead\u001b[0;34m(func, x0, args, callback, maxiter, maxfev, disp, return_all, initial_simplex, xatol, fatol, adaptive, bounds, **unknown_options)\u001b[0m\n\u001b[1;32m    897\u001b[0m \u001b[38;5;28;01mtry\u001b[39;00m:\n\u001b[1;32m    898\u001b[0m     \u001b[38;5;28;01mfor\u001b[39;00m k \u001b[38;5;129;01min\u001b[39;00m \u001b[38;5;28mrange\u001b[39m(N \u001b[38;5;241m+\u001b[39m \u001b[38;5;241m1\u001b[39m):\n\u001b[0;32m--> 899\u001b[0m         fsim[k] \u001b[38;5;241m=\u001b[39m \u001b[43mfunc\u001b[49m\u001b[43m(\u001b[49m\u001b[43msim\u001b[49m\u001b[43m[\u001b[49m\u001b[43mk\u001b[49m\u001b[43m]\u001b[49m\u001b[43m)\u001b[49m\n\u001b[1;32m    900\u001b[0m \u001b[38;5;28;01mexcept\u001b[39;00m _MaxFuncCallError:\n\u001b[1;32m    901\u001b[0m     \u001b[38;5;28;01mpass\u001b[39;00m\n",
      "File \u001b[0;32m~/src/python/spad_regression_research/venv/lib/python3.11/site-packages/scipy/optimize/_optimize.py:628\u001b[0m, in \u001b[0;36m_wrap_scalar_function_maxfun_validation.<locals>.function_wrapper\u001b[0;34m(x, *wrapper_args)\u001b[0m\n\u001b[1;32m    626\u001b[0m         fx \u001b[38;5;241m=\u001b[39m np\u001b[38;5;241m.\u001b[39masarray(fx)\u001b[38;5;241m.\u001b[39mitem()\n\u001b[1;32m    627\u001b[0m     \u001b[38;5;28;01mexcept\u001b[39;00m (\u001b[38;5;167;01mTypeError\u001b[39;00m, \u001b[38;5;167;01mValueError\u001b[39;00m) \u001b[38;5;28;01mas\u001b[39;00m e:\n\u001b[0;32m--> 628\u001b[0m         \u001b[38;5;28;01mraise\u001b[39;00m \u001b[38;5;167;01mValueError\u001b[39;00m(\u001b[38;5;124m\"\u001b[39m\u001b[38;5;124mThe user-provided objective function \u001b[39m\u001b[38;5;124m\"\u001b[39m\n\u001b[1;32m    629\u001b[0m                          \u001b[38;5;124m\"\u001b[39m\u001b[38;5;124mmust return a scalar value.\u001b[39m\u001b[38;5;124m\"\u001b[39m) \u001b[38;5;28;01mfrom\u001b[39;00m \u001b[38;5;21;01me\u001b[39;00m\n\u001b[1;32m    630\u001b[0m \u001b[38;5;28;01mreturn\u001b[39;00m fx\n",
      "\u001b[0;31mValueError\u001b[0m: The user-provided objective function must return a scalar value."
     ]
    }
   ],
   "source": [
    "from scipy.optimize import minimize\n",
    "res = minimize(gen_gauss, pred_x, args=(_h, _d, _w, _o), method='nelder-mead')"
   ]
  }
 ],
 "metadata": {
  "kernelspec": {
   "display_name": "venv",
   "language": "python",
   "name": "venv"
  },
  "language_info": {
   "codemirror_mode": {
    "name": "ipython",
    "version": 3
   },
   "file_extension": ".py",
   "mimetype": "text/x-python",
   "name": "python",
   "nbconvert_exporter": "python",
   "pygments_lexer": "ipython3",
   "version": "3.11.8"
  }
 },
 "nbformat": 4,
 "nbformat_minor": 5
}
