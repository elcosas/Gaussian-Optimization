{
 "cells": [
  {
   "cell_type": "code",
   "execution_count": 15,
   "id": "baff4032-90ee-488c-8be6-35e94229a764",
   "metadata": {},
   "outputs": [
    {
     "data": {
      "text/plain": [
       "(array([ 0,  1,  2,  3,  4,  5,  6,  7,  8,  9, 10, 11, 12, 13, 14, 15, 16,\n",
       "        17, 18, 19]),\n",
       " array([ 0.   ,  0.957,  2.062,  2.898,  3.972,  4.924,  6.025,  6.868,\n",
       "         7.926,  8.857, 10.03 , 10.858, 12.191, 13.037, 13.89 , 14.995,\n",
       "        16.008, 16.832, 18.227, 19.057]))"
      ]
     },
     "execution_count": 15,
     "metadata": {},
     "output_type": "execute_result"
    }
   ],
   "source": [
    "import numpy as np\n",
    "import matplotlib.pyplot as plt\n",
    "\n",
    "arr = np.arange(20)\n",
    "arr2 = np.random.poisson(arr * 1000) / 1000\n",
    "\n",
    "arr, arr2"
   ]
  }
 ],
 "metadata": {
  "kernelspec": {
   "display_name": "venv",
   "language": "python",
   "name": "venv"
  },
  "language_info": {
   "codemirror_mode": {
    "name": "ipython",
    "version": 3
   },
   "file_extension": ".py",
   "mimetype": "text/x-python",
   "name": "python",
   "nbconvert_exporter": "python",
   "pygments_lexer": "ipython3",
   "version": "3.11.2"
  }
 },
 "nbformat": 4,
 "nbformat_minor": 5
}
